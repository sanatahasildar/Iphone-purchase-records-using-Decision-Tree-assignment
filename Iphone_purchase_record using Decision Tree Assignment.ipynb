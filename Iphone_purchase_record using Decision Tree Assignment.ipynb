{
 "cells": [
  {
   "cell_type": "code",
   "execution_count": 3,
   "id": "f3286f1c",
   "metadata": {},
   "outputs": [],
   "source": [
    "# 1. Importing Libraries\n",
    "\n",
    "import pandas as pd\n",
    "import matplotlib.pyplot as plt\n",
    "import seaborn as sns\n",
    "import numpy as np\n",
    "import time\n",
    "from sklearn.metrics import accuracy_score\n",
    "from sklearn.metrics import plot_confusion_matrix\n",
    "import warnings\n",
    "warnings.filterwarnings(\"ignore\")"
   ]
  },
  {
   "cell_type": "code",
   "execution_count": null,
   "id": "c30ef02c",
   "metadata": {},
   "outputs": [],
   "source": [
    "# 2. Data Preprocessing\n"
   ]
  },
  {
   "cell_type": "code",
   "execution_count": 4,
   "id": "92a715c0",
   "metadata": {},
   "outputs": [],
   "source": [
    "# 2.1. Importing Data\n",
    "start = time.time()\n",
    "datas = pd.read_csv('iphone_purchase_records.csv')"
   ]
  },
  {
   "cell_type": "code",
   "execution_count": 9,
   "id": "9f96d92e",
   "metadata": {},
   "outputs": [
    {
     "data": {
      "text/html": [
       "<div>\n",
       "<style scoped>\n",
       "    .dataframe tbody tr th:only-of-type {\n",
       "        vertical-align: middle;\n",
       "    }\n",
       "\n",
       "    .dataframe tbody tr th {\n",
       "        vertical-align: top;\n",
       "    }\n",
       "\n",
       "    .dataframe thead th {\n",
       "        text-align: right;\n",
       "    }\n",
       "</style>\n",
       "<table border=\"1\" class=\"dataframe\">\n",
       "  <thead>\n",
       "    <tr style=\"text-align: right;\">\n",
       "      <th></th>\n",
       "      <th>Gender</th>\n",
       "      <th>Age</th>\n",
       "      <th>Salary</th>\n",
       "      <th>Purchase Iphone</th>\n",
       "    </tr>\n",
       "  </thead>\n",
       "  <tbody>\n",
       "    <tr>\n",
       "      <th>0</th>\n",
       "      <td>1</td>\n",
       "      <td>19</td>\n",
       "      <td>19000</td>\n",
       "      <td>0</td>\n",
       "    </tr>\n",
       "    <tr>\n",
       "      <th>1</th>\n",
       "      <td>1</td>\n",
       "      <td>35</td>\n",
       "      <td>20000</td>\n",
       "      <td>0</td>\n",
       "    </tr>\n",
       "    <tr>\n",
       "      <th>2</th>\n",
       "      <td>0</td>\n",
       "      <td>26</td>\n",
       "      <td>43000</td>\n",
       "      <td>0</td>\n",
       "    </tr>\n",
       "    <tr>\n",
       "      <th>3</th>\n",
       "      <td>0</td>\n",
       "      <td>27</td>\n",
       "      <td>57000</td>\n",
       "      <td>0</td>\n",
       "    </tr>\n",
       "    <tr>\n",
       "      <th>4</th>\n",
       "      <td>1</td>\n",
       "      <td>19</td>\n",
       "      <td>76000</td>\n",
       "      <td>0</td>\n",
       "    </tr>\n",
       "    <tr>\n",
       "      <th>...</th>\n",
       "      <td>...</td>\n",
       "      <td>...</td>\n",
       "      <td>...</td>\n",
       "      <td>...</td>\n",
       "    </tr>\n",
       "    <tr>\n",
       "      <th>395</th>\n",
       "      <td>0</td>\n",
       "      <td>46</td>\n",
       "      <td>41000</td>\n",
       "      <td>1</td>\n",
       "    </tr>\n",
       "    <tr>\n",
       "      <th>396</th>\n",
       "      <td>1</td>\n",
       "      <td>51</td>\n",
       "      <td>23000</td>\n",
       "      <td>1</td>\n",
       "    </tr>\n",
       "    <tr>\n",
       "      <th>397</th>\n",
       "      <td>0</td>\n",
       "      <td>50</td>\n",
       "      <td>20000</td>\n",
       "      <td>1</td>\n",
       "    </tr>\n",
       "    <tr>\n",
       "      <th>398</th>\n",
       "      <td>1</td>\n",
       "      <td>36</td>\n",
       "      <td>33000</td>\n",
       "      <td>0</td>\n",
       "    </tr>\n",
       "    <tr>\n",
       "      <th>399</th>\n",
       "      <td>0</td>\n",
       "      <td>49</td>\n",
       "      <td>36000</td>\n",
       "      <td>1</td>\n",
       "    </tr>\n",
       "  </tbody>\n",
       "</table>\n",
       "<p>400 rows × 4 columns</p>\n",
       "</div>"
      ],
      "text/plain": [
       "     Gender  Age  Salary  Purchase Iphone\n",
       "0         1   19   19000                0\n",
       "1         1   35   20000                0\n",
       "2         0   26   43000                0\n",
       "3         0   27   57000                0\n",
       "4         1   19   76000                0\n",
       "..      ...  ...     ...              ...\n",
       "395       0   46   41000                1\n",
       "396       1   51   23000                1\n",
       "397       0   50   20000                1\n",
       "398       1   36   33000                0\n",
       "399       0   49   36000                1\n",
       "\n",
       "[400 rows x 4 columns]"
      ]
     },
     "execution_count": 9,
     "metadata": {},
     "output_type": "execute_result"
    }
   ],
   "source": [
    "datas"
   ]
  },
  {
   "cell_type": "code",
   "execution_count": 5,
   "id": "4786250a",
   "metadata": {},
   "outputs": [
    {
     "name": "stdout",
     "output_type": "stream",
     "text": [
      "<class 'pandas.core.frame.DataFrame'>\n",
      "RangeIndex: 400 entries, 0 to 399\n",
      "Data columns (total 4 columns):\n",
      " #   Column           Non-Null Count  Dtype \n",
      "---  ------           --------------  ----- \n",
      " 0   Gender           400 non-null    object\n",
      " 1   Age              400 non-null    int64 \n",
      " 2   Salary           400 non-null    int64 \n",
      " 3   Purchase Iphone  400 non-null    int64 \n",
      "dtypes: int64(3), object(1)\n",
      "memory usage: 12.6+ KB\n",
      "None\n",
      "                 count        mean           std      min       25%      50%  \\\n",
      "Age              400.0     37.6550     10.482877     18.0     29.75     37.0   \n",
      "Salary           400.0  69742.5000  34096.960282  15000.0  43000.00  70000.0   \n",
      "Purchase Iphone  400.0      0.3575      0.479864      0.0      0.00      0.0   \n",
      "\n",
      "                     75%       max  \n",
      "Age                 46.0      60.0  \n",
      "Salary           88000.0  150000.0  \n",
      "Purchase Iphone      1.0       1.0  \n",
      "Gender             0\n",
      "Age                0\n",
      "Salary             0\n",
      "Purchase Iphone    0\n",
      "dtype: int64\n"
     ]
    }
   ],
   "source": [
    "# 2.2. Looking For Anomalies\n",
    "print(datas.info()) # Looking for the missing values\n",
    "print(datas.describe().T)\n",
    "print(datas.isnull().sum())"
   ]
  },
  {
   "cell_type": "code",
   "execution_count": null,
   "id": "7fa35e49",
   "metadata": {},
   "outputs": [],
   "source": [
    "# 2.3. Creating correlation matrix heat map and examine relationship between datas"
   ]
  },
  {
   "cell_type": "code",
   "execution_count": 6,
   "id": "636c887a",
   "metadata": {},
   "outputs": [
    {
     "data": {
      "image/png": "[encoded data removed]",
      "text/plain": [
       "<Figure size 864x432 with 2 Axes>"
      ]
     },
     "metadata": {
      "needs_background": "light"
     },
     "output_type": "display_data"
    },
    {
     "data": {
      "image/png": "[encoded data removed]",
      "text/plain": [
       "<Figure size 630.625x360 with 6 Axes>"
      ]
     },
     "metadata": {
      "needs_background": "light"
     },
     "output_type": "display_data"
    }
   ],
   "source": [
    "plt.figure(figsize = (12, 6))\n",
    "sns.heatmap(datas.corr(),annot = True, cmap=\"Greens\")\n",
    "sns.pairplot(datas, hue = 'Purchase Iphone', aspect = 1.5)\n",
    "plt.show()"
   ]
  },
  {
   "cell_type": "code",
   "execution_count": 7,
   "id": "99fbaedf",
   "metadata": {},
   "outputs": [],
   "source": [
    "# 3.4. Label Encoding\n",
    "from sklearn.preprocessing import LabelEncoder\n",
    "le = LabelEncoder()\n",
    "datas[\"Gender\"] = le.fit_transform(datas['Gender'])"
   ]
  },
  {
   "cell_type": "code",
   "execution_count": 8,
   "id": "25dc6645",
   "metadata": {},
   "outputs": [],
   "source": [
    "# 2.5. DataFrame Slice - Determination of Dependent and Independent Variables\n",
    "y = datas.iloc[:, 3:4]\n",
    "x = datas.iloc[:, 0:3]  "
   ]
  },
  {
   "cell_type": "code",
   "execution_count": 10,
   "id": "616dc189",
   "metadata": {},
   "outputs": [],
   "source": [
    "# 2.6. NumPy Array Translate\n",
    "X = x.values\n",
    "Y = y.values"
   ]
  },
  {
   "cell_type": "code",
   "execution_count": 11,
   "id": "23bbaa49",
   "metadata": {},
   "outputs": [],
   "source": [
    "# 2.7. Train - Test Split\n",
    "from sklearn.model_selection import train_test_split\n",
    "x_train, x_test, y_train, y_test = train_test_split(X, Y, test_size=0.33, random_state=0) "
   ]
  },
  {
   "cell_type": "code",
   "execution_count": 12,
   "id": "dfcccd53",
   "metadata": {},
   "outputs": [],
   "source": [
    "# 2.8. Scaling Datas\n",
    "from sklearn.preprocessing import StandardScaler\n",
    "sc=StandardScaler()"
   ]
  },
  {
   "cell_type": "code",
   "execution_count": 13,
   "id": "e3ab1b50",
   "metadata": {},
   "outputs": [],
   "source": [
    "X_train = sc.fit_transform(x_train)\n",
    "X_test = sc.transform(x_test)\n"
   ]
  },
  {
   "cell_type": "code",
   "execution_count": null,
   "id": "ac4c0aa0",
   "metadata": {},
   "outputs": [],
   "source": [
    "# Logistic Regression"
   ]
  },
  {
   "cell_type": "code",
   "execution_count": 14,
   "id": "85fffb9f",
   "metadata": {},
   "outputs": [
    {
     "data": {
      "text/plain": [
       "LogisticRegression(random_state=0)"
      ]
     },
     "execution_count": 14,
     "metadata": {},
     "output_type": "execute_result"
    }
   ],
   "source": [
    "from sklearn.linear_model import LogisticRegression\n",
    "logr = LogisticRegression(random_state=0)\n",
    "logr.fit(X_train,y_train)"
   ]
  },
  {
   "cell_type": "code",
   "execution_count": 15,
   "id": "3793622d",
   "metadata": {},
   "outputs": [],
   "source": [
    "y_pred = logr.predict(X_test)"
   ]
  },
  {
   "cell_type": "code",
   "execution_count": 16,
   "id": "775ee349",
   "metadata": {},
   "outputs": [],
   "source": [
    "from sklearn.metrics import confusion_matrix"
   ]
  },
  {
   "cell_type": "code",
   "execution_count": 17,
   "id": "11274909",
   "metadata": {},
   "outputs": [
    {
     "name": "stdout",
     "output_type": "stream",
     "text": [
      "\n",
      "Logistic Regression Confusion Matrix\n",
      "[[78  6]\n",
      " [10 38]]\n",
      "Accuracy score: 0.8787878787878788\n"
     ]
    }
   ],
   "source": [
    "# Confusion Matrix - Accuracy Score\n",
    "cm = confusion_matrix(y_test, y_pred)\n",
    "print('\\nLogistic Regression Confusion Matrix')\n",
    "print(cm)\n",
    "print(f\"Accuracy score: {accuracy_score(y_test, y_pred)}\")"
   ]
  },
  {
   "cell_type": "code",
   "execution_count": 18,
   "id": "ea1f3572",
   "metadata": {},
   "outputs": [
    {
     "data": {
      "image/png": "[encoded data removed]",
      "text/plain": [
       "<Figure size 432x288 with 2 Axes>"
      ]
     },
     "metadata": {
      "needs_background": "light"
     },
     "output_type": "display_data"
    }
   ],
   "source": [
    "# Plotting Confusion Matrix\n",
    "plot_confusion_matrix(logr, X_test, y_test, cmap=plt.cm.Blues)\n",
    "plt.title('Logistic Regression Classifier')  \n",
    "plt.show()"
   ]
  },
  {
   "cell_type": "code",
   "execution_count": 19,
   "id": "5fd95e0c",
   "metadata": {},
   "outputs": [
    {
     "name": "stdout",
     "output_type": "stream",
     "text": [
      "The model predicted as he/she get Iphone. Class:  [1]\n"
     ]
    }
   ],
   "source": [
    "# Predicting\n",
    "predict = np.array([1, 19, 19000]).reshape(1, 3)\n",
    "y_pred = logr.predict(predict)\n",
    "if y_pred == 0:\n",
    "    print(\"The model predicted as he/she didn't get Iphone. Class: \", y_pred)\n",
    "else:\n",
    "    print('The model predicted as he/she get Iphone. Class: ', y_pred)"
   ]
  },
  {
   "cell_type": "code",
   "execution_count": null,
   "id": "93e410d1",
   "metadata": {},
   "outputs": [],
   "source": [
    "# K-NN"
   ]
  },
  {
   "cell_type": "code",
   "execution_count": 20,
   "id": "1e266c7a",
   "metadata": {},
   "outputs": [
    {
     "data": {
      "text/plain": [
       "KNeighborsClassifier(n_neighbors=1)"
      ]
     },
     "execution_count": 20,
     "metadata": {},
     "output_type": "execute_result"
    }
   ],
   "source": [
    "from sklearn.neighbors import KNeighborsClassifier\n",
    "knn = KNeighborsClassifier(n_neighbors=1, metric='minkowski')\n",
    "knn.fit(X_train,y_train)"
   ]
  },
  {
   "cell_type": "code",
   "execution_count": 21,
   "id": "f7223e1b",
   "metadata": {},
   "outputs": [],
   "source": [
    "y_pred = knn.predict(X_test)\n",
    "cm = confusion_matrix(y_test, y_pred)"
   ]
  },
  {
   "cell_type": "code",
   "execution_count": 22,
   "id": "1ba51cd2",
   "metadata": {},
   "outputs": [
    {
     "name": "stdout",
     "output_type": "stream",
     "text": [
      "\n",
      "K-NN Confusion Matrix\n",
      "[[78  6]\n",
      " [ 6 42]]\n",
      "Accuracy score: 0.9090909090909091\n",
      "K-NN Score: 0.9090909090909091\n"
     ]
    }
   ],
   "source": [
    "# Confusion Matrix - Accuracy Score - K-NN Score\n",
    "print('\\nK-NN Confusion Matrix')\n",
    "print(cm)\n",
    "print(f\"Accuracy score: {accuracy_score(y_test, y_pred)}\")\n",
    "print(f\"K-NN Score: {knn.score(X_test, y_test)}\")"
   ]
  },
  {
   "cell_type": "code",
   "execution_count": 23,
   "id": "1d09885a",
   "metadata": {},
   "outputs": [
    {
     "data": {
      "image/png": "[encoded data removed]",
      "text/plain": [
       "<Figure size 432x288 with 2 Axes>"
      ]
     },
     "metadata": {
      "needs_background": "light"
     },
     "output_type": "display_data"
    }
   ],
   "source": [
    "# Plotting Confusion Matrix\n",
    "plot_confusion_matrix(knn, X_test, y_test)\n",
    "plt.title('K-NN Classifier')  \n",
    "plt.show()"
   ]
  },
  {
   "cell_type": "code",
   "execution_count": 24,
   "id": "4bcca5c9",
   "metadata": {},
   "outputs": [
    {
     "name": "stdout",
     "output_type": "stream",
     "text": [
      "The model predicted as he/she get Iphone. Class:  [1]\n"
     ]
    }
   ],
   "source": [
    "# Predicting\n",
    "predict = np.array([1, 19, 19000]).reshape(1, 3)\n",
    "y_pred = knn.predict(predict)\n",
    "if y_pred == 0:\n",
    "    print(\"The model predicted as he/she didn't get Iphone. Class: \", y_pred)\n",
    "else:\n",
    "    print('The model predicted as he/she get Iphone. Class: ', y_pred)"
   ]
  },
  {
   "cell_type": "code",
   "execution_count": null,
   "id": "ef62ad41",
   "metadata": {},
   "outputs": [],
   "source": [
    "# SVM"
   ]
  },
  {
   "cell_type": "code",
   "execution_count": 25,
   "id": "3b9fdfc3",
   "metadata": {},
   "outputs": [
    {
     "data": {
      "text/plain": [
       "SVC(C=4, gamma=0.1, kernel='sigmoid')"
      ]
     },
     "execution_count": 25,
     "metadata": {},
     "output_type": "execute_result"
    }
   ],
   "source": [
    "from sklearn.svm import SVC\n",
    "svc = SVC(kernel='sigmoid', C=4, gamma=0.1) # linear-rbf-sigmoid-precomputed-callable\n",
    "svc.fit(X_train,y_train)\n"
   ]
  },
  {
   "cell_type": "code",
   "execution_count": 26,
   "id": "28e94ff0",
   "metadata": {},
   "outputs": [],
   "source": [
    "y_pred = svc.predict(X_test)"
   ]
  },
  {
   "cell_type": "code",
   "execution_count": 27,
   "id": "98cd6399",
   "metadata": {},
   "outputs": [
    {
     "name": "stdout",
     "output_type": "stream",
     "text": [
      "\n",
      "SVC Confusion Matrix\n",
      "[[78  6]\n",
      " [13 35]]\n",
      "Accuracy score: 0.8560606060606061\n"
     ]
    }
   ],
   "source": [
    "# Confusion Matrix - Accuracy Score\n",
    "cm = confusion_matrix(y_test, y_pred)\n",
    "print('\\nSVC Confusion Matrix')\n",
    "print(cm)\n",
    "print(f\"Accuracy score: {accuracy_score(y_test, y_pred)}\")\n"
   ]
  },
  {
   "cell_type": "code",
   "execution_count": 28,
   "id": "e33526a7",
   "metadata": {},
   "outputs": [
    {
     "data": {
      "image/png": "[encoded data removed]",
      "text/plain": [
       "<Figure size 432x288 with 2 Axes>"
      ]
     },
     "metadata": {
      "needs_background": "light"
     },
     "output_type": "display_data"
    }
   ],
   "source": [
    "# Plotting Confusion Matrix\n",
    "plot_confusion_matrix(svc, X_test, y_test, cmap=plt.cm.Blues)\n",
    "plt.title('SVC Classifier')  \n",
    "plt.show()"
   ]
  },
  {
   "cell_type": "code",
   "execution_count": 29,
   "id": "97bf1c88",
   "metadata": {},
   "outputs": [
    {
     "name": "stdout",
     "output_type": "stream",
     "text": [
      "The model predicted as he/she didn't get Iphone. Class:  [0]\n"
     ]
    }
   ],
   "source": [
    "# Predicting\n",
    "predict = np.array([1, 19, 19000]).reshape(1, 3)\n",
    "y_pred = svc.predict(predict)\n",
    "if y_pred == 0:\n",
    "    print(\"The model predicted as he/she didn't get Iphone. Class: \", y_pred)\n",
    "else:\n",
    "    print('The model predicted as he/she get Iphone. Class: ', y_pred)\n",
    "    "
   ]
  },
  {
   "cell_type": "code",
   "execution_count": null,
   "id": "4fb5ff07",
   "metadata": {},
   "outputs": [],
   "source": [
    "# Desicion Tree"
   ]
  },
  {
   "cell_type": "code",
   "execution_count": 30,
   "id": "ab1d91d4",
   "metadata": {},
   "outputs": [
    {
     "data": {
      "text/plain": [
       "DecisionTreeClassifier(criterion='entropy')"
      ]
     },
     "execution_count": 30,
     "metadata": {},
     "output_type": "execute_result"
    }
   ],
   "source": [
    "from sklearn.tree import DecisionTreeClassifier\n",
    "from sklearn import tree\n",
    "dtc = DecisionTreeClassifier(criterion = 'entropy')\n",
    "dtc.fit(X_train, y_train)"
   ]
  },
  {
   "cell_type": "code",
   "execution_count": 31,
   "id": "439204a9",
   "metadata": {},
   "outputs": [],
   "source": [
    "y_pred = dtc.predict(X_test) "
   ]
  },
  {
   "cell_type": "code",
   "execution_count": 32,
   "id": "155724b4",
   "metadata": {},
   "outputs": [
    {
     "name": "stdout",
     "output_type": "stream",
     "text": [
      "\n",
      "Decision Tree Classifier Confusion Matrix\n",
      "[[76  8]\n",
      " [ 7 41]]\n",
      "Accuracy score: 0.8863636363636364\n"
     ]
    },
    {
     "data": {
      "text/plain": [
       "[Text(161.86102941176472, 208.38, 'X[1] <= 0.569\\nentropy = 0.938\\nsamples = 268\\nvalue = [173, 95]'),\n",
       " Text(83.7, 190.26, 'X[2] <= 0.619\\nentropy = 0.658\\nsamples = 194\\nvalue = [161, 33]'),\n",
       " Text(39.38823529411765, 172.14, 'X[1] <= -0.121\\nentropy = 0.229\\nsamples = 162\\nvalue = [156, 6]'),\n",
       " Text(29.541176470588237, 154.01999999999998, 'entropy = 0.0\\nsamples = 106\\nvalue = [106, 0]'),\n",
       " Text(49.23529411764706, 154.01999999999998, 'X[2] <= 0.414\\nentropy = 0.491\\nsamples = 56\\nvalue = [50, 6]'),\n",
       " Text(39.38823529411765, 135.89999999999998, 'X[2] <= -0.056\\nentropy = 0.381\\nsamples = 54\\nvalue = [50, 4]'),\n",
       " Text(29.541176470588237, 117.77999999999999, 'entropy = 0.0\\nsamples = 26\\nvalue = [26, 0]'),\n",
       " Text(49.23529411764706, 117.77999999999999, 'X[2] <= 0.032\\nentropy = 0.592\\nsamples = 28\\nvalue = [24, 4]'),\n",
       " Text(39.38823529411765, 99.66, 'entropy = 0.0\\nsamples = 1\\nvalue = [0, 1]'),\n",
       " Text(59.082352941176474, 99.66, 'X[1] <= 0.273\\nentropy = 0.503\\nsamples = 27\\nvalue = [24, 3]'),\n",
       " Text(49.23529411764706, 81.53999999999999, 'X[2] <= 0.267\\nentropy = 0.65\\nsamples = 18\\nvalue = [15, 3]'),\n",
       " Text(39.38823529411765, 63.41999999999999, 'X[2] <= 0.149\\nentropy = 0.722\\nsamples = 15\\nvalue = [12, 3]'),\n",
       " Text(19.694117647058825, 45.29999999999998, 'X[1] <= 0.174\\nentropy = 0.469\\nsamples = 10\\nvalue = [9, 1]'),\n",
       " Text(9.847058823529412, 27.17999999999998, 'entropy = 0.0\\nsamples = 8\\nvalue = [8, 0]'),\n",
       " Text(29.541176470588237, 27.17999999999998, 'X[0] <= 0.0\\nentropy = 1.0\\nsamples = 2\\nvalue = [1, 1]'),\n",
       " Text(19.694117647058825, 9.059999999999974, 'entropy = 0.0\\nsamples = 1\\nvalue = [1, 0]'),\n",
       " Text(39.38823529411765, 9.059999999999974, 'entropy = 0.0\\nsamples = 1\\nvalue = [0, 1]'),\n",
       " Text(59.082352941176474, 45.29999999999998, 'X[0] <= 0.0\\nentropy = 0.971\\nsamples = 5\\nvalue = [3, 2]'),\n",
       " Text(49.23529411764706, 27.17999999999998, 'entropy = 0.0\\nsamples = 2\\nvalue = [0, 2]'),\n",
       " Text(68.92941176470589, 27.17999999999998, 'entropy = 0.0\\nsamples = 3\\nvalue = [3, 0]'),\n",
       " Text(59.082352941176474, 63.41999999999999, 'entropy = 0.0\\nsamples = 3\\nvalue = [3, 0]'),\n",
       " Text(68.92941176470589, 81.53999999999999, 'entropy = 0.0\\nsamples = 9\\nvalue = [9, 0]'),\n",
       " Text(59.082352941176474, 135.89999999999998, 'entropy = 0.0\\nsamples = 2\\nvalue = [0, 2]'),\n",
       " Text(128.01176470588237, 172.14, 'X[2] <= 1.883\\nentropy = 0.625\\nsamples = 32\\nvalue = [5, 27]'),\n",
       " Text(118.16470588235295, 154.01999999999998, 'X[2] <= 1.119\\nentropy = 0.773\\nsamples = 22\\nvalue = [5, 17]'),\n",
       " Text(108.31764705882354, 135.89999999999998, 'entropy = 0.0\\nsamples = 7\\nvalue = [0, 7]'),\n",
       " Text(128.01176470588237, 135.89999999999998, 'X[2] <= 1.383\\nentropy = 0.918\\nsamples = 15\\nvalue = [5, 10]'),\n",
       " Text(108.31764705882354, 117.77999999999999, 'X[2] <= 1.266\\nentropy = 0.971\\nsamples = 5\\nvalue = [3, 2]'),\n",
       " Text(98.47058823529412, 99.66, 'X[2] <= 1.192\\nentropy = 0.918\\nsamples = 3\\nvalue = [1, 2]'),\n",
       " Text(88.62352941176471, 81.53999999999999, 'X[1] <= 0.076\\nentropy = 1.0\\nsamples = 2\\nvalue = [1, 1]'),\n",
       " Text(78.7764705882353, 63.41999999999999, 'entropy = 0.0\\nsamples = 1\\nvalue = [1, 0]'),\n",
       " Text(98.47058823529412, 63.41999999999999, 'entropy = 0.0\\nsamples = 1\\nvalue = [0, 1]'),\n",
       " Text(108.31764705882354, 81.53999999999999, 'entropy = 0.0\\nsamples = 1\\nvalue = [0, 1]'),\n",
       " Text(118.16470588235295, 99.66, 'entropy = 0.0\\nsamples = 2\\nvalue = [2, 0]'),\n",
       " Text(147.7058823529412, 117.77999999999999, 'X[1] <= -1.058\\nentropy = 0.722\\nsamples = 10\\nvalue = [2, 8]'),\n",
       " Text(137.85882352941178, 99.66, 'entropy = 0.0\\nsamples = 1\\nvalue = [1, 0]'),\n",
       " Text(157.5529411764706, 99.66, 'X[2] <= 1.809\\nentropy = 0.503\\nsamples = 9\\nvalue = [1, 8]'),\n",
       " Text(147.7058823529412, 81.53999999999999, 'entropy = 0.0\\nsamples = 8\\nvalue = [0, 8]'),\n",
       " Text(167.4, 81.53999999999999, 'entropy = 0.0\\nsamples = 1\\nvalue = [1, 0]'),\n",
       " Text(137.85882352941178, 154.01999999999998, 'entropy = 0.0\\nsamples = 10\\nvalue = [0, 10]'),\n",
       " Text(240.02205882352942, 190.26, 'X[2] <= -0.85\\nentropy = 0.639\\nsamples = 74\\nvalue = [12, 62]'),\n",
       " Text(196.94117647058823, 172.14, 'X[2] <= -1.379\\nentropy = 0.229\\nsamples = 27\\nvalue = [1, 26]'),\n",
       " Text(187.09411764705882, 154.01999999999998, 'X[1] <= 0.865\\nentropy = 0.811\\nsamples = 4\\nvalue = [1, 3]'),\n",
       " Text(177.24705882352941, 135.89999999999998, 'X[1] <= 0.766\\nentropy = 1.0\\nsamples = 2\\nvalue = [1, 1]'),\n",
       " Text(167.4, 117.77999999999999, 'entropy = 0.0\\nsamples = 1\\nvalue = [0, 1]'),\n",
       " Text(187.09411764705882, 117.77999999999999, 'entropy = 0.0\\nsamples = 1\\nvalue = [1, 0]'),\n",
       " Text(196.94117647058823, 135.89999999999998, 'entropy = 0.0\\nsamples = 2\\nvalue = [0, 2]'),\n",
       " Text(206.78823529411767, 154.01999999999998, 'entropy = 0.0\\nsamples = 23\\nvalue = [0, 23]'),\n",
       " Text(283.1029411764706, 172.14, 'X[1] <= 1.457\\nentropy = 0.785\\nsamples = 47\\nvalue = [11, 36]'),\n",
       " Text(251.10000000000002, 154.01999999999998, 'X[2] <= 0.414\\nentropy = 0.94\\nsamples = 28\\nvalue = [10, 18]'),\n",
       " Text(216.63529411764708, 135.89999999999998, 'X[1] <= 1.062\\nentropy = 0.971\\nsamples = 10\\nvalue = [6, 4]'),\n",
       " Text(206.78823529411767, 117.77999999999999, 'X[1] <= 0.963\\nentropy = 1.0\\nsamples = 8\\nvalue = [4, 4]'),\n",
       " Text(196.94117647058823, 99.66, 'X[2] <= -0.688\\nentropy = 0.985\\nsamples = 7\\nvalue = [4, 3]'),\n",
       " Text(187.09411764705882, 81.53999999999999, 'entropy = 0.0\\nsamples = 1\\nvalue = [0, 1]'),\n",
       " Text(206.78823529411767, 81.53999999999999, 'X[1] <= 0.766\\nentropy = 0.918\\nsamples = 6\\nvalue = [4, 2]'),\n",
       " Text(196.94117647058823, 63.41999999999999, 'entropy = 0.0\\nsamples = 1\\nvalue = [1, 0]'),\n",
       " Text(216.63529411764708, 63.41999999999999, 'X[2] <= 0.208\\nentropy = 0.971\\nsamples = 5\\nvalue = [3, 2]'),\n",
       " Text(206.78823529411767, 45.29999999999998, 'X[1] <= 0.865\\nentropy = 0.811\\nsamples = 4\\nvalue = [3, 1]'),\n",
       " Text(196.94117647058823, 27.17999999999998, 'entropy = 0.0\\nsamples = 2\\nvalue = [2, 0]'),\n",
       " Text(216.63529411764708, 27.17999999999998, 'X[2] <= -0.615\\nentropy = 1.0\\nsamples = 2\\nvalue = [1, 1]'),\n",
       " Text(206.78823529411767, 9.059999999999974, 'entropy = 0.0\\nsamples = 1\\nvalue = [1, 0]'),\n",
       " Text(226.4823529411765, 9.059999999999974, 'entropy = 0.0\\nsamples = 1\\nvalue = [0, 1]'),\n",
       " Text(226.4823529411765, 45.29999999999998, 'entropy = 0.0\\nsamples = 1\\nvalue = [0, 1]'),\n",
       " Text(216.63529411764708, 99.66, 'entropy = 0.0\\nsamples = 1\\nvalue = [0, 1]'),\n",
       " Text(226.4823529411765, 117.77999999999999, 'entropy = 0.0\\nsamples = 2\\nvalue = [2, 0]'),\n",
       " Text(285.56470588235294, 135.89999999999998, 'X[2] <= 0.678\\nentropy = 0.764\\nsamples = 18\\nvalue = [4, 14]'),\n",
       " Text(275.71764705882356, 117.77999999999999, 'entropy = 0.0\\nsamples = 4\\nvalue = [0, 4]'),\n",
       " Text(295.4117647058824, 117.77999999999999, 'X[2] <= 2.177\\nentropy = 0.863\\nsamples = 14\\nvalue = [4, 10]'),\n",
       " Text(285.56470588235294, 99.66, 'X[2] <= 2.074\\nentropy = 0.918\\nsamples = 12\\nvalue = [4, 8]'),\n",
       " Text(275.71764705882356, 81.53999999999999, 'X[1] <= 1.161\\nentropy = 0.845\\nsamples = 11\\nvalue = [3, 8]'),\n",
       " Text(256.02352941176474, 63.41999999999999, 'X[2] <= 1.031\\nentropy = 0.544\\nsamples = 8\\nvalue = [1, 7]'),\n",
       " Text(246.1764705882353, 45.29999999999998, 'X[1] <= 0.914\\nentropy = 1.0\\nsamples = 2\\nvalue = [1, 1]'),\n",
       " Text(236.3294117647059, 27.17999999999998, 'entropy = 0.0\\nsamples = 1\\nvalue = [1, 0]'),\n",
       " Text(256.02352941176474, 27.17999999999998, 'entropy = 0.0\\nsamples = 1\\nvalue = [0, 1]'),\n",
       " Text(265.8705882352941, 45.29999999999998, 'entropy = 0.0\\nsamples = 6\\nvalue = [0, 6]'),\n",
       " Text(295.4117647058824, 63.41999999999999, 'X[2] <= 1.956\\nentropy = 0.918\\nsamples = 3\\nvalue = [2, 1]'),\n",
       " Text(285.56470588235294, 45.29999999999998, 'entropy = 0.0\\nsamples = 2\\nvalue = [2, 0]'),\n",
       " Text(305.25882352941176, 45.29999999999998, 'entropy = 0.0\\nsamples = 1\\nvalue = [0, 1]'),\n",
       " Text(295.4117647058824, 81.53999999999999, 'entropy = 0.0\\nsamples = 1\\nvalue = [1, 0]'),\n",
       " Text(305.25882352941176, 99.66, 'entropy = 0.0\\nsamples = 2\\nvalue = [0, 2]'),\n",
       " Text(315.1058823529412, 154.01999999999998, 'X[2] <= -0.747\\nentropy = 0.297\\nsamples = 19\\nvalue = [1, 18]'),\n",
       " Text(305.25882352941176, 135.89999999999998, 'entropy = 0.0\\nsamples = 1\\nvalue = [1, 0]'),\n",
       " Text(324.95294117647063, 135.89999999999998, 'entropy = 0.0\\nsamples = 18\\nvalue = [0, 18]')]"
      ]
     },
     "execution_count": 32,
     "metadata": {},
     "output_type": "execute_result"
    },
    {
     "data": {
      "image/png": "[encoded data removed]",
      "text/plain": [
       "<Figure size 432x288 with 1 Axes>"
      ]
     },
     "metadata": {
      "needs_background": "light"
     },
     "output_type": "display_data"
    }
   ],
   "source": [
    "# Confusion Matrix - Accuracy Score\n",
    "cm = confusion_matrix(y_test, y_pred)\n",
    "print('\\nDecision Tree Classifier Confusion Matrix')\n",
    "print(cm)\n",
    "print(f\"Accuracy score: {accuracy_score(y_test, y_pred)}\")\n",
    "tree.plot_tree(dtc) "
   ]
  },
  {
   "cell_type": "code",
   "execution_count": 33,
   "id": "fa073818",
   "metadata": {},
   "outputs": [
    {
     "data": {
      "image/png": "[encoded data removed]",
      "text/plain": [
       "<Figure size 432x288 with 2 Axes>"
      ]
     },
     "metadata": {
      "needs_background": "light"
     },
     "output_type": "display_data"
    }
   ],
   "source": [
    "# Plotting Confusion Matrix\n",
    "plot_confusion_matrix(dtc, X_test, y_test)\n",
    "plt.title('Decision Tree Classifier')\n",
    "plt.show()"
   ]
  },
  {
   "cell_type": "code",
   "execution_count": 34,
   "id": "17a88c44",
   "metadata": {},
   "outputs": [
    {
     "name": "stdout",
     "output_type": "stream",
     "text": [
      "The model predicted as he/she get Iphone. Class:  [1]\n"
     ]
    }
   ],
   "source": [
    "# Predicting\n",
    "predict = np.array([1, 19, 19000]).reshape(1, 3)\n",
    "y_pred = dtc.predict(predict)\n",
    "if y_pred == 0:\n",
    "    print(\"The model predicted as he/she didn't get Iphone. Class: \", y_pred)\n",
    "else:\n",
    "    print('The model predicted as he/she get Iphone. Class: ', y_pred)\n"
   ]
  },
  {
   "cell_type": "code",
   "execution_count": null,
   "id": "c7ba0bd0",
   "metadata": {},
   "outputs": [],
   "source": [
    "# Random Forest"
   ]
  },
  {
   "cell_type": "code",
   "execution_count": 35,
   "id": "23952245",
   "metadata": {},
   "outputs": [
    {
     "data": {
      "text/plain": [
       "RandomForestClassifier(criterion='entropy', n_estimators=10)"
      ]
     },
     "execution_count": 35,
     "metadata": {},
     "output_type": "execute_result"
    }
   ],
   "source": [
    "from sklearn.ensemble import RandomForestClassifier\n",
    "rfc = RandomForestClassifier(n_estimators=10, criterion = 'entropy')\n",
    "rfc.fit(X_train,y_train) \n"
   ]
  },
  {
   "cell_type": "code",
   "execution_count": 36,
   "id": "a5ae9e6e",
   "metadata": {},
   "outputs": [],
   "source": [
    "y_pred = rfc.predict(X_test)\n"
   ]
  },
  {
   "cell_type": "code",
   "execution_count": 37,
   "id": "3750122e",
   "metadata": {},
   "outputs": [
    {
     "name": "stdout",
     "output_type": "stream",
     "text": [
      "\n",
      "Random Forest Confusion Matrix\n",
      "[[77  7]\n",
      " [ 7 41]]\n",
      "Accuracy score: 0.8939393939393939\n"
     ]
    }
   ],
   "source": [
    "# Confusion Matrix - Accuracy Score\n",
    "cm = confusion_matrix(y_test, y_pred)\n",
    "print('\\nRandom Forest Confusion Matrix')\n",
    "print(cm)\n",
    "print(f\"Accuracy score: {accuracy_score(y_test, y_pred)}\")\n"
   ]
  },
  {
   "cell_type": "code",
   "execution_count": 38,
   "id": "cb6a2d51",
   "metadata": {},
   "outputs": [
    {
     "data": {
      "image/png": "[encoded data removed]",
      "text/plain": [
       "<Figure size 432x288 with 2 Axes>"
      ]
     },
     "metadata": {
      "needs_background": "light"
     },
     "output_type": "display_data"
    }
   ],
   "source": [
    "# Plotting Confusion Matrix\n",
    "plot_confusion_matrix(dtc, X_test, y_test, cmap=plt.cm.Blues)\n",
    "plt.title('Random Forest Classifier')\n",
    "plt.show()"
   ]
  },
  {
   "cell_type": "code",
   "execution_count": 39,
   "id": "69cdce76",
   "metadata": {},
   "outputs": [
    {
     "name": "stdout",
     "output_type": "stream",
     "text": [
      "The model predicted as he/she get Iphone. Class:  [1]\n"
     ]
    }
   ],
   "source": [
    "# Predicting\n",
    "predict = np.array([1, 19, 19000]).reshape(1, 3)\n",
    "y_pred = rfc.predict(predict)\n",
    "if y_pred == 0:\n",
    "    print(\"The model predicted as he/she didn't get Iphone. Class: \", y_pred)\n",
    "else:\n",
    "    print('The model predicted as he/she get Iphone. Class: ', y_pred)\n"
   ]
  },
  {
   "cell_type": "code",
   "execution_count": 42,
   "id": "705fb58e",
   "metadata": {},
   "outputs": [
    {
     "name": "stdout",
     "output_type": "stream",
     "text": [
      "\n",
      "K-Fold Cross Validation:\n",
      "Success Mean:\n",
      " 0.8059701492537312\n",
      "Success Standard Deviation:\n",
      " 0.061538889934591945\n"
     ]
    }
   ],
   "source": [
    "# K-Fold Cross Validation\n",
    "\n",
    "from sklearn.model_selection import cross_val_score\n",
    "\n",
    "success = cross_val_score(estimator = svc, X=X_train, y=y_train, cv = 4)\n",
    "print(\"\\nK-Fold Cross Validation:\")\n",
    "print(\"Success Mean:\\n\", success.mean())\n",
    "print(\"Success Standard Deviation:\\n\", success.std())\n"
   ]
  },
  {
   "cell_type": "code",
   "execution_count": null,
   "id": "367ccb27",
   "metadata": {},
   "outputs": [],
   "source": [
    "# Grid Search"
   ]
  },
  {
   "cell_type": "code",
   "execution_count": 43,
   "id": "8aaea872",
   "metadata": {},
   "outputs": [],
   "source": [
    "from sklearn.model_selection import GridSearchCV\n",
    "p = [{'C':[1,2,3,4,5],'kernel':['linear'], 'gamma':[1,0.5,0.1,0.01,0.001]},\n",
    "     {'C':[1,2,3,4,5] ,'kernel':['rbf'], 'gamma':[1,0.5,0.1,0.01,0.001]},\n",
    "     {'C':[1,2,3,4,5] ,'kernel':['sigmoid'], 'gamma':[1,0.5,0.1,0.01,0.001]},\n",
    "     {'C':[1,2,3,4,5] ,'kernel':['callable'], 'gamma':[1,0.5,0.1,0.01,0.001]}]\n"
   ]
  },
  {
   "cell_type": "code",
   "execution_count": 44,
   "id": "96313141",
   "metadata": {},
   "outputs": [],
   "source": [
    "gs = GridSearchCV(estimator=svc,\n",
    "                  param_grid=p,\n",
    "                  scoring='accuracy',\n",
    "                  cv=5,\n",
    "                  n_jobs=-1)"
   ]
  },
  {
   "cell_type": "code",
   "execution_count": 45,
   "id": "13a5751f",
   "metadata": {},
   "outputs": [
    {
     "name": "stdout",
     "output_type": "stream",
     "text": [
      "\n",
      "Grid Search\n",
      "Best result:\n",
      " 0.9107617051013278\n",
      "Best parameters:\n",
      " {'C': 1, 'gamma': 1, 'kernel': 'rbf'}\n"
     ]
    }
   ],
   "source": [
    "grid_search = gs.fit(X_train, y_train)\n",
    "best_result = grid_search.best_score_\n",
    "best_parameters = grid_search.best_params_\n",
    "print(\"\\nGrid Search\")\n",
    "print(\"Best result:\\n\", best_result)\n",
    "print(\"Best parameters:\\n\", best_parameters)"
   ]
  },
  {
   "cell_type": "code",
   "execution_count": null,
   "id": "ddb68711",
   "metadata": {},
   "outputs": [],
   "source": [
    "# Saving Model"
   ]
  },
  {
   "cell_type": "code",
   "execution_count": 46,
   "id": "0eaba39b",
   "metadata": {},
   "outputs": [],
   "source": [
    "# Pickle\n",
    "import pickle\n",
    "file = \"logr.save\"\n",
    "pickle.dump(logr, open(file, 'wb'))"
   ]
  },
  {
   "cell_type": "code",
   "execution_count": 47,
   "id": "54e69a8d",
   "metadata": {},
   "outputs": [
    {
     "name": "stdout",
     "output_type": "stream",
     "text": [
      "[0 0 0 0 0 0 0 1 0 1 0 0 0 0 0 0 0 0 1 0 0 1 0 1 0 1 0 0 0 0 0 0 1 0 0 0 0\n",
      " 0 0 1 0 0 0 0 1 0 0 1 0 1 1 0 0 0 1 0 0 0 1 0 0 1 0 0 0 1 0 0 0 0 1 0 0 0\n",
      " 0 0 1 0 1 1 1 1 0 0 1 1 0 1 0 0 0 1 0 0 0 0 0 1 1 1 0 0 0 0 1 1 0 0 0 0 0\n",
      " 0 0 1 1 1 1 0 1 1 0 1 1 1 0 0 1 1 1 0 0 1]\n"
     ]
    }
   ],
   "source": [
    "downloaded_data = pickle.load(open(file, 'rb'))\n",
    "print(downloaded_data.predict(X_test))"
   ]
  },
  {
   "cell_type": "code",
   "execution_count": 48,
   "id": "1455e2bd",
   "metadata": {},
   "outputs": [
    {
     "name": "stdout",
     "output_type": "stream",
     "text": [
      "\n",
      "Process took 938.4989950656891 seconds.\n"
     ]
    }
   ],
   "source": [
    "end = time.time()\n",
    "cal_time = end - start\n",
    "print(\"\\nProcess took {} seconds.\".format(cal_time))"
   ]
  },
  {
   "cell_type": "code",
   "execution_count": null,
   "id": "c4c5048d",
   "metadata": {},
   "outputs": [],
   "source": []
  }
 ],
 "metadata": {
  "kernelspec": {
   "display_name": "Python 3",
   "language": "python",
   "name": "python3"
  },
  "language_info": {
   "codemirror_mode": {
    "name": "ipython",
    "version": 3
   },
   "file_extension": ".py",
   "mimetype": "text/x-python",
   "name": "python",
   "nbconvert_exporter": "python",
   "pygments_lexer": "ipython3",
   "version": "3.8.8"
  }
 },
 "nbformat": 4,
 "nbformat_minor": 5
}
